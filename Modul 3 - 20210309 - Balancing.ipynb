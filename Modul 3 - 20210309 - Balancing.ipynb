{
 "cells": [
  {
   "cell_type": "code",
   "execution_count": 1,
   "metadata": {},
   "outputs": [],
   "source": [
    "import pandas as pd\n",
    "import numpy as np\n",
    "import seaborn as sns\n",
    "import statsmodels.api as sm\n",
    "import matplotlib.pyplot as plt\n",
    "import math\n",
    "import warnings\n",
    "warnings.filterwarnings('ignore')"
   ]
  },
  {
   "cell_type": "code",
   "execution_count": 9,
   "metadata": {},
   "outputs": [],
   "source": [
    "from sklearn.model_selection import train_test_split, cross_val_score,StratifiedKFold, GridSearchCV\n",
    "from sklearn.metrics import confusion_matrix, classification_report, f1_score, recall_score, precision_score,roc_auc_score, SCORERS, mean_squared_error, plot_roc_curve\n",
    "from sklearn.compose import ColumnTransformer\n",
    "from sklearn.pipeline import Pipeline\n",
    "from sklearn.preprocessing import OneHotEncoder\n",
    "\n",
    "from imblearn.over_sampling import RandomOverSampler, SMOTE\n",
    "from imblearn.under_sampling import RandomUnderSampler, NearMiss\n",
    "from imblearn.pipeline import Pipeline\n",
    "\n",
    "from sklearn.tree import DecisionTreeClassifier, DecisionTreeRegressor\n",
    "from sklearn.neighbors import KNeighborsClassifier\n",
    "from sklearn.linear_model import LogisticRegression, LinearRegression\n",
    "from sklearn.preprocessing import MinMaxScaler, StandardScaler, RobustScaler, PolynomialFeatures"
   ]
  },
  {
   "cell_type": "markdown",
   "metadata": {},
   "source": [
    "# Balancing Method with Cross Validation"
   ]
  },
  {
   "cell_type": "code",
   "execution_count": 4,
   "metadata": {},
   "outputs": [
    {
     "data": {
      "text/html": [
       "<div>\n",
       "<style scoped>\n",
       "    .dataframe tbody tr th:only-of-type {\n",
       "        vertical-align: middle;\n",
       "    }\n",
       "\n",
       "    .dataframe tbody tr th {\n",
       "        vertical-align: top;\n",
       "    }\n",
       "\n",
       "    .dataframe thead th {\n",
       "        text-align: right;\n",
       "    }\n",
       "</style>\n",
       "<table border=\"1\" class=\"dataframe\">\n",
       "  <thead>\n",
       "    <tr style=\"text-align: right;\">\n",
       "      <th></th>\n",
       "      <th>age</th>\n",
       "      <th>ed</th>\n",
       "      <th>employ</th>\n",
       "      <th>address</th>\n",
       "      <th>income</th>\n",
       "      <th>debtinc</th>\n",
       "      <th>creddebt</th>\n",
       "      <th>othdebt</th>\n",
       "      <th>default</th>\n",
       "    </tr>\n",
       "  </thead>\n",
       "  <tbody>\n",
       "    <tr>\n",
       "      <th>0</th>\n",
       "      <td>41</td>\n",
       "      <td>3</td>\n",
       "      <td>17</td>\n",
       "      <td>12</td>\n",
       "      <td>176</td>\n",
       "      <td>9.3</td>\n",
       "      <td>11.359392</td>\n",
       "      <td>5.008608</td>\n",
       "      <td>1</td>\n",
       "    </tr>\n",
       "    <tr>\n",
       "      <th>1</th>\n",
       "      <td>27</td>\n",
       "      <td>1</td>\n",
       "      <td>10</td>\n",
       "      <td>6</td>\n",
       "      <td>31</td>\n",
       "      <td>17.3</td>\n",
       "      <td>1.362202</td>\n",
       "      <td>4.000798</td>\n",
       "      <td>0</td>\n",
       "    </tr>\n",
       "    <tr>\n",
       "      <th>2</th>\n",
       "      <td>40</td>\n",
       "      <td>1</td>\n",
       "      <td>15</td>\n",
       "      <td>14</td>\n",
       "      <td>55</td>\n",
       "      <td>5.5</td>\n",
       "      <td>0.856075</td>\n",
       "      <td>2.168925</td>\n",
       "      <td>0</td>\n",
       "    </tr>\n",
       "    <tr>\n",
       "      <th>3</th>\n",
       "      <td>41</td>\n",
       "      <td>1</td>\n",
       "      <td>15</td>\n",
       "      <td>14</td>\n",
       "      <td>120</td>\n",
       "      <td>2.9</td>\n",
       "      <td>2.658720</td>\n",
       "      <td>0.821280</td>\n",
       "      <td>0</td>\n",
       "    </tr>\n",
       "    <tr>\n",
       "      <th>4</th>\n",
       "      <td>24</td>\n",
       "      <td>2</td>\n",
       "      <td>2</td>\n",
       "      <td>0</td>\n",
       "      <td>28</td>\n",
       "      <td>17.3</td>\n",
       "      <td>1.787436</td>\n",
       "      <td>3.056564</td>\n",
       "      <td>1</td>\n",
       "    </tr>\n",
       "  </tbody>\n",
       "</table>\n",
       "</div>"
      ],
      "text/plain": [
       "   age  ed  employ  address  income  debtinc   creddebt   othdebt  default\n",
       "0   41   3      17       12     176      9.3  11.359392  5.008608        1\n",
       "1   27   1      10        6      31     17.3   1.362202  4.000798        0\n",
       "2   40   1      15       14      55      5.5   0.856075  2.168925        0\n",
       "3   41   1      15       14     120      2.9   2.658720  0.821280        0\n",
       "4   24   2       2        0      28     17.3   1.787436  3.056564        1"
      ]
     },
     "execution_count": 4,
     "metadata": {},
     "output_type": "execute_result"
    }
   ],
   "source": [
    "bankloan = pd.read_csv('bankloan.csv')\n",
    "bankloan.head()"
   ]
  },
  {
   "cell_type": "code",
   "execution_count": 5,
   "metadata": {},
   "outputs": [],
   "source": [
    "X = bankloan[['employ','debtinc','creddebt','othdebt']]\n",
    "y = bankloan['default']"
   ]
  },
  {
   "cell_type": "markdown",
   "metadata": {},
   "source": [
    "### Data Splitting"
   ]
  },
  {
   "cell_type": "code",
   "execution_count": 6,
   "metadata": {},
   "outputs": [],
   "source": [
    "X_train_val, X_test, y_train_val, y_test = train_test_split(X,y,stratify=y,random_state=1899,test_size=0.2)"
   ]
  },
  {
   "cell_type": "markdown",
   "metadata": {},
   "source": [
    "## Resampling: SMOTE"
   ]
  },
  {
   "cell_type": "code",
   "execution_count": 11,
   "metadata": {},
   "outputs": [],
   "source": [
    "smote = SMOTE()\n",
    "model = LogisticRegression()\n",
    "\n",
    "estimator=Pipeline([\n",
    "    ('balancing',smote),\n",
    "    ('model',model)\n",
    "])"
   ]
  },
  {
   "cell_type": "code",
   "execution_count": 12,
   "metadata": {},
   "outputs": [],
   "source": [
    "skfold = StratifiedKFold(n_splits=5)\n",
    "model_cv = cross_val_score(estimator, X_train_val, y_train_val,cv=skfold, scoring='f1')"
   ]
  },
  {
   "cell_type": "code",
   "execution_count": 13,
   "metadata": {},
   "outputs": [
    {
     "name": "stdout",
     "output_type": "stream",
     "text": [
      "cv score: [0.53658537 0.6        0.61764706 0.75       0.55555556]\n",
      "cv score mean: 0.6119575960465488\n"
     ]
    }
   ],
   "source": [
    "print('cv score:',model_cv)\n",
    "print('cv score mean:', model_cv.mean())"
   ]
  },
  {
   "cell_type": "markdown",
   "metadata": {},
   "source": [
    "## Algo Based: Penalized"
   ]
  },
  {
   "cell_type": "code",
   "execution_count": 14,
   "metadata": {},
   "outputs": [],
   "source": [
    "model = LogisticRegression(class_weight='balanced')\n",
    "skfold = StratifiedKFold(n_splits=5)\n",
    "model_cv = cross_val_score(model, X_train_val, y_train_val, cv = skfold, scoring='f1')"
   ]
  },
  {
   "cell_type": "code",
   "execution_count": 15,
   "metadata": {},
   "outputs": [
    {
     "name": "stdout",
     "output_type": "stream",
     "text": [
      "cv score: [0.56097561 0.60273973 0.60869565 0.76190476 0.52173913]\n",
      "cv score mean: 0.6112109760593905\n"
     ]
    }
   ],
   "source": [
    "print('cv score:',model_cv)\n",
    "print('cv score mean:', model_cv.mean())"
   ]
  },
  {
   "cell_type": "markdown",
   "metadata": {},
   "source": [
    "## Combining Balancing Method with Hyperparameter Tuning"
   ]
  },
  {
   "cell_type": "code",
   "execution_count": 21,
   "metadata": {},
   "outputs": [],
   "source": [
    "smote = SMOTE(random_state=1899)\n",
    "model = LogisticRegression()\n",
    "estimator=Pipeline([\n",
    "    ('balancing',smote),\n",
    "    ('model',model)\n",
    "])\n"
   ]
  },
  {
   "cell_type": "code",
   "execution_count": 28,
   "metadata": {},
   "outputs": [],
   "source": [
    "hyperparam_space = {\n",
    "    'balancing__k_neighbors':[2,5,10,15,20],\n",
    "    'model__C':[100,10,1,0.1,0.01,0.001],\n",
    "    'model__solver':['liblinear','newton-cg']\n",
    "}\n",
    "\n",
    "skfold = StratifiedKFold(n_splits=5)"
   ]
  },
  {
   "cell_type": "code",
   "execution_count": 29,
   "metadata": {},
   "outputs": [],
   "source": [
    "grid_search = GridSearchCV(\n",
    "    estimator,\n",
    "    param_grid=hyperparam_space,\n",
    "    cv=skfold,\n",
    "    scoring='f1',\n",
    "    n_jobs=-1)"
   ]
  },
  {
   "cell_type": "code",
   "execution_count": 30,
   "metadata": {},
   "outputs": [
    {
     "data": {
      "text/plain": [
       "GridSearchCV(cv=StratifiedKFold(n_splits=5, random_state=None, shuffle=False),\n",
       "             estimator=Pipeline(steps=[('balancing', SMOTE()),\n",
       "                                       ('model', LogisticRegression())]),\n",
       "             n_jobs=-1,\n",
       "             param_grid={'balancing__k_neighbors': [2, 5, 10, 15, 20],\n",
       "                         'model__C': [100, 10, 1, 0.1, 0.01, 0.001],\n",
       "                         'model__solver': ['liblinear', 'newton-cg']},\n",
       "             scoring='f1')"
      ]
     },
     "execution_count": 30,
     "metadata": {},
     "output_type": "execute_result"
    }
   ],
   "source": [
    "grid_search.fit(X_train_val,y_train_val)"
   ]
  },
  {
   "cell_type": "code",
   "execution_count": 31,
   "metadata": {},
   "outputs": [
    {
     "name": "stdout",
     "output_type": "stream",
     "text": [
      "best score 0.6208019206264821\n",
      "best param {'balancing__k_neighbors': 15, 'model__C': 0.1, 'model__solver': 'liblinear'}\n"
     ]
    }
   ],
   "source": [
    "print('best score', grid_search.best_score_)\n",
    "print('best param',grid_search.best_params_)"
   ]
  },
  {
   "cell_type": "markdown",
   "metadata": {},
   "source": [
    "## Before Tuning"
   ]
  },
  {
   "cell_type": "code",
   "execution_count": 32,
   "metadata": {},
   "outputs": [],
   "source": [
    "smote = SMOTE()\n",
    "model = LogisticRegression()\n",
    "estimator=Pipeline([\n",
    "    ('balancing',smote),\n",
    "    ('model',model)\n",
    "])"
   ]
  },
  {
   "cell_type": "code",
   "execution_count": 33,
   "metadata": {},
   "outputs": [
    {
     "name": "stdout",
     "output_type": "stream",
     "text": [
      "              precision    recall  f1-score   support\n",
      "\n",
      "           0       0.96      0.71      0.82       103\n",
      "           1       0.53      0.92      0.67        37\n",
      "\n",
      "    accuracy                           0.76       140\n",
      "   macro avg       0.75      0.81      0.74       140\n",
      "weighted avg       0.85      0.76      0.78       140\n",
      "\n"
     ]
    }
   ],
   "source": [
    "estimator.fit(X_train_val,y_train_val)\n",
    "y_pred = estimator.predict(X_test)\n",
    "print(classification_report(y_test,y_pred))"
   ]
  },
  {
   "cell_type": "markdown",
   "metadata": {},
   "source": [
    "## After Tuning"
   ]
  },
  {
   "cell_type": "code",
   "execution_count": 34,
   "metadata": {},
   "outputs": [
    {
     "name": "stdout",
     "output_type": "stream",
     "text": [
      "              precision    recall  f1-score   support\n",
      "\n",
      "           0       0.95      0.71      0.81       103\n",
      "           1       0.52      0.89      0.66        37\n",
      "\n",
      "    accuracy                           0.76       140\n",
      "   macro avg       0.74      0.80      0.74       140\n",
      "weighted avg       0.84      0.76      0.77       140\n",
      "\n"
     ]
    }
   ],
   "source": [
    "grid_search.best_estimator_.fit(X_train_val,y_train_val)\n",
    "y_pred=grid_search.best_estimator_.predict(X_test)\n",
    "print(classification_report(y_test,y_pred))"
   ]
  },
  {
   "attachments": {
    "image.png": {
     "image/png": "[encoded data removed]"
    }
   },
   "cell_type": "markdown",
   "metadata": {},
   "source": [
    "![image.png](attachment:image.png)"
   ]
  },
  {
   "attachments": {
    "image.png": {
     "image/png": "[encoded data removed]"
    }
   },
   "cell_type": "markdown",
   "metadata": {},
   "source": [
    "![image.png](attachment:image.png)"
   ]
  },
  {
   "cell_type": "code",
   "execution_count": 35,
   "metadata": {},
   "outputs": [
    {
     "data": {
      "text/html": [
       "<div>\n",
       "<style scoped>\n",
       "    .dataframe tbody tr th:only-of-type {\n",
       "        vertical-align: middle;\n",
       "    }\n",
       "\n",
       "    .dataframe tbody tr th {\n",
       "        vertical-align: top;\n",
       "    }\n",
       "\n",
       "    .dataframe thead th {\n",
       "        text-align: right;\n",
       "    }\n",
       "</style>\n",
       "<table border=\"1\" class=\"dataframe\">\n",
       "  <thead>\n",
       "    <tr style=\"text-align: right;\">\n",
       "      <th></th>\n",
       "      <th>age</th>\n",
       "      <th>ed</th>\n",
       "      <th>employ</th>\n",
       "      <th>address</th>\n",
       "      <th>income</th>\n",
       "      <th>debtinc</th>\n",
       "      <th>creddebt</th>\n",
       "      <th>othdebt</th>\n",
       "      <th>default</th>\n",
       "    </tr>\n",
       "  </thead>\n",
       "  <tbody>\n",
       "    <tr>\n",
       "      <th>0</th>\n",
       "      <td>41</td>\n",
       "      <td>3</td>\n",
       "      <td>17</td>\n",
       "      <td>12</td>\n",
       "      <td>176</td>\n",
       "      <td>9.3</td>\n",
       "      <td>11.359392</td>\n",
       "      <td>5.008608</td>\n",
       "      <td>1</td>\n",
       "    </tr>\n",
       "    <tr>\n",
       "      <th>1</th>\n",
       "      <td>27</td>\n",
       "      <td>1</td>\n",
       "      <td>10</td>\n",
       "      <td>6</td>\n",
       "      <td>31</td>\n",
       "      <td>17.3</td>\n",
       "      <td>1.362202</td>\n",
       "      <td>4.000798</td>\n",
       "      <td>0</td>\n",
       "    </tr>\n",
       "    <tr>\n",
       "      <th>2</th>\n",
       "      <td>40</td>\n",
       "      <td>1</td>\n",
       "      <td>15</td>\n",
       "      <td>14</td>\n",
       "      <td>55</td>\n",
       "      <td>5.5</td>\n",
       "      <td>0.856075</td>\n",
       "      <td>2.168925</td>\n",
       "      <td>0</td>\n",
       "    </tr>\n",
       "    <tr>\n",
       "      <th>3</th>\n",
       "      <td>41</td>\n",
       "      <td>1</td>\n",
       "      <td>15</td>\n",
       "      <td>14</td>\n",
       "      <td>120</td>\n",
       "      <td>2.9</td>\n",
       "      <td>2.658720</td>\n",
       "      <td>0.821280</td>\n",
       "      <td>0</td>\n",
       "    </tr>\n",
       "    <tr>\n",
       "      <th>4</th>\n",
       "      <td>24</td>\n",
       "      <td>2</td>\n",
       "      <td>2</td>\n",
       "      <td>0</td>\n",
       "      <td>28</td>\n",
       "      <td>17.3</td>\n",
       "      <td>1.787436</td>\n",
       "      <td>3.056564</td>\n",
       "      <td>1</td>\n",
       "    </tr>\n",
       "  </tbody>\n",
       "</table>\n",
       "</div>"
      ],
      "text/plain": [
       "   age  ed  employ  address  income  debtinc   creddebt   othdebt  default\n",
       "0   41   3      17       12     176      9.3  11.359392  5.008608        1\n",
       "1   27   1      10        6      31     17.3   1.362202  4.000798        0\n",
       "2   40   1      15       14      55      5.5   0.856075  2.168925        0\n",
       "3   41   1      15       14     120      2.9   2.658720  0.821280        0\n",
       "4   24   2       2        0      28     17.3   1.787436  3.056564        1"
      ]
     },
     "execution_count": 35,
     "metadata": {},
     "output_type": "execute_result"
    }
   ],
   "source": [
    "bankloan = pd.read_csv('bankloan.csv')\n",
    "bankloan.head()"
   ]
  },
  {
   "cell_type": "code",
   "execution_count": 36,
   "metadata": {},
   "outputs": [],
   "source": [
    "X = bankloan[['employ','debtinc','creddebt','othdebt']]\n",
    "y = bankloan['default']"
   ]
  },
  {
   "cell_type": "code",
   "execution_count": 37,
   "metadata": {},
   "outputs": [],
   "source": [
    "X_train_val, X_test, y_train_val, y_test = train_test_split(X,y,stratify=y,random_state=2021,test_size=0.2)"
   ]
  },
  {
   "cell_type": "markdown",
   "metadata": {},
   "source": [
    "## Model Benchmark: Balancing and Cross Validation (Before Tuning)"
   ]
  },
  {
   "cell_type": "code",
   "execution_count": 57,
   "metadata": {},
   "outputs": [],
   "source": [
    "balancing = [NearMiss(),SMOTE(),RandomOverSampler(),RandomUnderSampler()]\n",
    "model = [LogisticRegression(),DecisionTreeClassifier(max_depth=5),KNeighborsClassifier()]"
   ]
  },
  {
   "cell_type": "code",
   "execution_count": 58,
   "metadata": {},
   "outputs": [],
   "source": [
    "def balancingBench(balancings, models):\n",
    "    skfold = StratifiedKFold(n_splits=5)\n",
    "    df = pd.DataFrame(columns=['Model','Balancing','1','2','3','4','5','mean','std'])\n",
    "    for i in models:\n",
    "        for j in balancings:\n",
    "            estimator=Pipeline([('balancing',j),('model',i)])\n",
    "            arr = cross_val_score(estimator, X_train_val, y_train_val, cv = skfold, scoring='f1')\n",
    "            df = df.append({'Model':str(estimator[-1]), 'Balancing':str(estimator[-2]),'1':arr[0], '2':arr[1], '3':arr[2], '4':arr[3], '5':arr[4], 'mean':arr.mean(),'std':arr.std()}, ignore_index=True)\n",
    "    return df"
   ]
  },
  {
   "cell_type": "code",
   "execution_count": 59,
   "metadata": {},
   "outputs": [
    {
     "data": {
      "text/html": [
       "<div>\n",
       "<style scoped>\n",
       "    .dataframe tbody tr th:only-of-type {\n",
       "        vertical-align: middle;\n",
       "    }\n",
       "\n",
       "    .dataframe tbody tr th {\n",
       "        vertical-align: top;\n",
       "    }\n",
       "\n",
       "    .dataframe thead th {\n",
       "        text-align: right;\n",
       "    }\n",
       "</style>\n",
       "<table border=\"1\" class=\"dataframe\">\n",
       "  <thead>\n",
       "    <tr style=\"text-align: right;\">\n",
       "      <th></th>\n",
       "      <th>Model</th>\n",
       "      <th>Balancing</th>\n",
       "      <th>1</th>\n",
       "      <th>2</th>\n",
       "      <th>3</th>\n",
       "      <th>4</th>\n",
       "      <th>5</th>\n",
       "      <th>mean</th>\n",
       "      <th>std</th>\n",
       "    </tr>\n",
       "  </thead>\n",
       "  <tbody>\n",
       "    <tr>\n",
       "      <th>3</th>\n",
       "      <td>LogisticRegression()</td>\n",
       "      <td>RandomUnderSampler()</td>\n",
       "      <td>0.648649</td>\n",
       "      <td>0.563380</td>\n",
       "      <td>0.609756</td>\n",
       "      <td>0.676923</td>\n",
       "      <td>0.560000</td>\n",
       "      <td>0.611742</td>\n",
       "      <td>0.046110</td>\n",
       "    </tr>\n",
       "    <tr>\n",
       "      <th>1</th>\n",
       "      <td>LogisticRegression()</td>\n",
       "      <td>SMOTE()</td>\n",
       "      <td>0.647887</td>\n",
       "      <td>0.540541</td>\n",
       "      <td>0.625000</td>\n",
       "      <td>0.687500</td>\n",
       "      <td>0.521739</td>\n",
       "      <td>0.604533</td>\n",
       "      <td>0.063454</td>\n",
       "    </tr>\n",
       "    <tr>\n",
       "      <th>2</th>\n",
       "      <td>LogisticRegression()</td>\n",
       "      <td>RandomOverSampler()</td>\n",
       "      <td>0.694444</td>\n",
       "      <td>0.555556</td>\n",
       "      <td>0.602410</td>\n",
       "      <td>0.625000</td>\n",
       "      <td>0.507463</td>\n",
       "      <td>0.596974</td>\n",
       "      <td>0.063314</td>\n",
       "    </tr>\n",
       "    <tr>\n",
       "      <th>11</th>\n",
       "      <td>KNeighborsClassifier()</td>\n",
       "      <td>RandomUnderSampler()</td>\n",
       "      <td>0.591549</td>\n",
       "      <td>0.500000</td>\n",
       "      <td>0.575000</td>\n",
       "      <td>0.553846</td>\n",
       "      <td>0.481013</td>\n",
       "      <td>0.540282</td>\n",
       "      <td>0.042786</td>\n",
       "    </tr>\n",
       "    <tr>\n",
       "      <th>6</th>\n",
       "      <td>DecisionTreeClassifier(max_depth=5)</td>\n",
       "      <td>RandomOverSampler()</td>\n",
       "      <td>0.580645</td>\n",
       "      <td>0.507463</td>\n",
       "      <td>0.571429</td>\n",
       "      <td>0.430769</td>\n",
       "      <td>0.405405</td>\n",
       "      <td>0.499142</td>\n",
       "      <td>0.071272</td>\n",
       "    </tr>\n",
       "    <tr>\n",
       "      <th>0</th>\n",
       "      <td>LogisticRegression()</td>\n",
       "      <td>NearMiss()</td>\n",
       "      <td>0.477273</td>\n",
       "      <td>0.506667</td>\n",
       "      <td>0.500000</td>\n",
       "      <td>0.432432</td>\n",
       "      <td>0.525000</td>\n",
       "      <td>0.488274</td>\n",
       "      <td>0.031824</td>\n",
       "    </tr>\n",
       "    <tr>\n",
       "      <th>9</th>\n",
       "      <td>KNeighborsClassifier()</td>\n",
       "      <td>SMOTE()</td>\n",
       "      <td>0.480000</td>\n",
       "      <td>0.492754</td>\n",
       "      <td>0.550000</td>\n",
       "      <td>0.477612</td>\n",
       "      <td>0.435897</td>\n",
       "      <td>0.487253</td>\n",
       "      <td>0.036743</td>\n",
       "    </tr>\n",
       "    <tr>\n",
       "      <th>10</th>\n",
       "      <td>KNeighborsClassifier()</td>\n",
       "      <td>RandomOverSampler()</td>\n",
       "      <td>0.507042</td>\n",
       "      <td>0.444444</td>\n",
       "      <td>0.500000</td>\n",
       "      <td>0.507042</td>\n",
       "      <td>0.467532</td>\n",
       "      <td>0.485212</td>\n",
       "      <td>0.025085</td>\n",
       "    </tr>\n",
       "    <tr>\n",
       "      <th>7</th>\n",
       "      <td>DecisionTreeClassifier(max_depth=5)</td>\n",
       "      <td>RandomUnderSampler()</td>\n",
       "      <td>0.459016</td>\n",
       "      <td>0.549020</td>\n",
       "      <td>0.559140</td>\n",
       "      <td>0.419753</td>\n",
       "      <td>0.412698</td>\n",
       "      <td>0.479925</td>\n",
       "      <td>0.062652</td>\n",
       "    </tr>\n",
       "    <tr>\n",
       "      <th>5</th>\n",
       "      <td>DecisionTreeClassifier(max_depth=5)</td>\n",
       "      <td>SMOTE()</td>\n",
       "      <td>0.571429</td>\n",
       "      <td>0.400000</td>\n",
       "      <td>0.574713</td>\n",
       "      <td>0.465116</td>\n",
       "      <td>0.382353</td>\n",
       "      <td>0.478722</td>\n",
       "      <td>0.081827</td>\n",
       "    </tr>\n",
       "    <tr>\n",
       "      <th>4</th>\n",
       "      <td>DecisionTreeClassifier(max_depth=5)</td>\n",
       "      <td>NearMiss()</td>\n",
       "      <td>0.439024</td>\n",
       "      <td>0.500000</td>\n",
       "      <td>0.482759</td>\n",
       "      <td>0.406250</td>\n",
       "      <td>0.422222</td>\n",
       "      <td>0.450051</td>\n",
       "      <td>0.035719</td>\n",
       "    </tr>\n",
       "    <tr>\n",
       "      <th>8</th>\n",
       "      <td>KNeighborsClassifier()</td>\n",
       "      <td>NearMiss()</td>\n",
       "      <td>0.413043</td>\n",
       "      <td>0.481928</td>\n",
       "      <td>0.426966</td>\n",
       "      <td>0.384615</td>\n",
       "      <td>0.481928</td>\n",
       "      <td>0.437696</td>\n",
       "      <td>0.038609</td>\n",
       "    </tr>\n",
       "  </tbody>\n",
       "</table>\n",
       "</div>"
      ],
      "text/plain": [
       "                                  Model             Balancing         1  \\\n",
       "3                  LogisticRegression()  RandomUnderSampler()  0.648649   \n",
       "1                  LogisticRegression()               SMOTE()  0.647887   \n",
       "2                  LogisticRegression()   RandomOverSampler()  0.694444   \n",
       "11               KNeighborsClassifier()  RandomUnderSampler()  0.591549   \n",
       "6   DecisionTreeClassifier(max_depth=5)   RandomOverSampler()  0.580645   \n",
       "0                  LogisticRegression()            NearMiss()  0.477273   \n",
       "9                KNeighborsClassifier()               SMOTE()  0.480000   \n",
       "10               KNeighborsClassifier()   RandomOverSampler()  0.507042   \n",
       "7   DecisionTreeClassifier(max_depth=5)  RandomUnderSampler()  0.459016   \n",
       "5   DecisionTreeClassifier(max_depth=5)               SMOTE()  0.571429   \n",
       "4   DecisionTreeClassifier(max_depth=5)            NearMiss()  0.439024   \n",
       "8                KNeighborsClassifier()            NearMiss()  0.413043   \n",
       "\n",
       "           2         3         4         5      mean       std  \n",
       "3   0.563380  0.609756  0.676923  0.560000  0.611742  0.046110  \n",
       "1   0.540541  0.625000  0.687500  0.521739  0.604533  0.063454  \n",
       "2   0.555556  0.602410  0.625000  0.507463  0.596974  0.063314  \n",
       "11  0.500000  0.575000  0.553846  0.481013  0.540282  0.042786  \n",
       "6   0.507463  0.571429  0.430769  0.405405  0.499142  0.071272  \n",
       "0   0.506667  0.500000  0.432432  0.525000  0.488274  0.031824  \n",
       "9   0.492754  0.550000  0.477612  0.435897  0.487253  0.036743  \n",
       "10  0.444444  0.500000  0.507042  0.467532  0.485212  0.025085  \n",
       "7   0.549020  0.559140  0.419753  0.412698  0.479925  0.062652  \n",
       "5   0.400000  0.574713  0.465116  0.382353  0.478722  0.081827  \n",
       "4   0.500000  0.482759  0.406250  0.422222  0.450051  0.035719  \n",
       "8   0.481928  0.426966  0.384615  0.481928  0.437696  0.038609  "
      ]
     },
     "execution_count": 59,
     "metadata": {},
     "output_type": "execute_result"
    }
   ],
   "source": [
    "balancingBench(balancing, model).sort_values(['mean'],ascending=False)"
   ]
  },
  {
   "cell_type": "markdown",
   "metadata": {},
   "source": [
    "Model Logistic Regression dengan Balancing Random Over Sampler memiliki mean f1 tertinggi diikuti oleh balancing SMOTE dengan model yang sama, karena kedua model dan balancing tersebut memiliki performa yang mirip, maka kita akan mengetes model tersebut dengan data tes"
   ]
  },
  {
   "cell_type": "markdown",
   "metadata": {},
   "source": [
    "## Model Test Set"
   ]
  },
  {
   "cell_type": "markdown",
   "metadata": {},
   "source": [
    "### Logistic Regression: Random Under Sample"
   ]
  },
  {
   "cell_type": "code",
   "execution_count": 62,
   "metadata": {},
   "outputs": [],
   "source": [
    "balancing_under = RandomUnderSampler()\n",
    "model = LogisticRegression()\n",
    "estimator_under =Pipeline([\n",
    "    ('balancing',balancing_under),\n",
    "    ('model',model)\n",
    "])"
   ]
  },
  {
   "cell_type": "markdown",
   "metadata": {},
   "source": [
    "### Logistic Regression: SMOTE"
   ]
  },
  {
   "cell_type": "code",
   "execution_count": 63,
   "metadata": {},
   "outputs": [],
   "source": [
    "balancing_smote = SMOTE()\n",
    "model = LogisticRegression()\n",
    "estimator_smote =Pipeline([\n",
    "    ('balancing',balancing_smote),\n",
    "    ('model',model)\n",
    "])"
   ]
  },
  {
   "cell_type": "markdown",
   "metadata": {},
   "source": [
    "### Comparison"
   ]
  },
  {
   "cell_type": "code",
   "execution_count": 64,
   "metadata": {},
   "outputs": [
    {
     "name": "stdout",
     "output_type": "stream",
     "text": [
      "              precision    recall  f1-score   support\n",
      "\n",
      "           0       0.91      0.77      0.83       103\n",
      "           1       0.55      0.78      0.64        37\n",
      "\n",
      "    accuracy                           0.77       140\n",
      "   macro avg       0.73      0.78      0.74       140\n",
      "weighted avg       0.81      0.77      0.78       140\n",
      "\n"
     ]
    }
   ],
   "source": [
    "estimator_under.fit(X_train_val,y_train_val)\n",
    "y_pred = estimator_under.predict(X_test)\n",
    "print(classification_report(y_test,y_pred))"
   ]
  },
  {
   "cell_type": "code",
   "execution_count": 65,
   "metadata": {},
   "outputs": [
    {
     "name": "stdout",
     "output_type": "stream",
     "text": [
      "              precision    recall  f1-score   support\n",
      "\n",
      "           0       0.91      0.79      0.84       103\n",
      "           1       0.57      0.78      0.66        37\n",
      "\n",
      "    accuracy                           0.79       140\n",
      "   macro avg       0.74      0.79      0.75       140\n",
      "weighted avg       0.82      0.79      0.79       140\n",
      "\n"
     ]
    }
   ],
   "source": [
    "estimator_smote.fit(X_train_val,y_train_val)\n",
    "y_pred = estimator_smote.predict(X_test)\n",
    "print(classification_report(y_test,y_pred))"
   ]
  },
  {
   "cell_type": "markdown",
   "metadata": {},
   "source": [
    "Dari hasil test dengan dataset, balancing SMOTE memiliki performa scoring f1 yang lebih tinggi daripada Random Under Sampe dengan perbandingan 66 dengan 64, kita akan mencoba untuk hyperparameter tuning untuk kedua metode tersebut untuk mencari metode yang terbaik"
   ]
  },
  {
   "cell_type": "markdown",
   "metadata": {},
   "source": [
    "## Hyperparameter Tuning"
   ]
  },
  {
   "cell_type": "markdown",
   "metadata": {},
   "source": [
    "### Logistic Regression: Random Under Sample"
   ]
  },
  {
   "cell_type": "code",
   "execution_count": 77,
   "metadata": {},
   "outputs": [],
   "source": [
    "balancing_under = RandomUnderSampler()\n",
    "model = LogisticRegression()\n",
    "estimator_under =Pipeline([\n",
    "    ('balancing',balancing_under),\n",
    "    ('model',model)\n",
    "])"
   ]
  },
  {
   "cell_type": "code",
   "execution_count": 109,
   "metadata": {},
   "outputs": [],
   "source": [
    "hyperparam_space = {\n",
    "    'balancing__sampling_strategy':['minority','majority','not minority','all','auto'],\n",
    "    'model__C':[1000,100,10,1,0.1,0.01,0.001,0.0001],\n",
    "    'model__solver':['liblinear','newton-cg','lbfgs'],\n",
    "    'model__max_iter':[20,50,100,200,500,1000]\n",
    "}\n",
    "\n",
    "skfold = StratifiedKFold(n_splits=5)"
   ]
  },
  {
   "cell_type": "code",
   "execution_count": 110,
   "metadata": {},
   "outputs": [],
   "source": [
    "grid_search = GridSearchCV(\n",
    "    estimator_under,\n",
    "    param_grid=hyperparam_space,\n",
    "    cv=skfold,\n",
    "    scoring='f1',\n",
    "    n_jobs=-1)"
   ]
  },
  {
   "cell_type": "code",
   "execution_count": 111,
   "metadata": {},
   "outputs": [
    {
     "data": {
      "text/plain": [
       "GridSearchCV(cv=StratifiedKFold(n_splits=5, random_state=None, shuffle=False),\n",
       "             estimator=Pipeline(steps=[('balancing', RandomUnderSampler()),\n",
       "                                       ('model', LogisticRegression())]),\n",
       "             n_jobs=-1,\n",
       "             param_grid={'balancing__sampling_strategy': ['minority',\n",
       "                                                          'majority',\n",
       "                                                          'not minority', 'all',\n",
       "                                                          'auto'],\n",
       "                         'model__C': [1000, 100, 10, 1, 0.1, 0.01, 0.001,\n",
       "                                      0.0001],\n",
       "                         'model__max_iter': [20, 50, 100, 200, 500, 1000],\n",
       "                         'model__solver': ['liblinear', 'newton-cg', 'lbfgs']},\n",
       "             scoring='f1')"
      ]
     },
     "execution_count": 111,
     "metadata": {},
     "output_type": "execute_result"
    }
   ],
   "source": [
    "grid_search.fit(X_train_val,y_train_val)"
   ]
  },
  {
   "cell_type": "code",
   "execution_count": 112,
   "metadata": {},
   "outputs": [
    {
     "name": "stdout",
     "output_type": "stream",
     "text": [
      "best score 0.6282319506335845\n",
      "best param {'balancing__sampling_strategy': 'majority', 'model__C': 100, 'model__max_iter': 20, 'model__solver': 'liblinear'}\n"
     ]
    }
   ],
   "source": [
    "print('best score', grid_search.best_score_)\n",
    "print('best param',grid_search.best_params_)"
   ]
  },
  {
   "cell_type": "code",
   "execution_count": 113,
   "metadata": {},
   "outputs": [
    {
     "name": "stdout",
     "output_type": "stream",
     "text": [
      "              precision    recall  f1-score   support\n",
      "\n",
      "           0       0.89      0.80      0.84       103\n",
      "           1       0.56      0.73      0.64        37\n",
      "\n",
      "    accuracy                           0.78       140\n",
      "   macro avg       0.73      0.76      0.74       140\n",
      "weighted avg       0.80      0.78      0.79       140\n",
      "\n"
     ]
    }
   ],
   "source": [
    "grid_search.best_estimator_.fit(X_train_val,y_train_val)\n",
    "y_pred=grid_search.best_estimator_.predict(X_test)\n",
    "print(classification_report(y_test,y_pred))"
   ]
  },
  {
   "cell_type": "markdown",
   "metadata": {},
   "source": [
    "### Logistic Regression: SMOTE"
   ]
  },
  {
   "cell_type": "code",
   "execution_count": 114,
   "metadata": {},
   "outputs": [],
   "source": [
    "balancing_smote = SMOTE()\n",
    "model = LogisticRegression()\n",
    "estimator_smote =Pipeline([\n",
    "    ('balancing',balancing_smote),\n",
    "    ('model',model)\n",
    "])"
   ]
  },
  {
   "cell_type": "code",
   "execution_count": 103,
   "metadata": {},
   "outputs": [
    {
     "data": {
      "text/plain": [
       "dict_keys(['memory', 'steps', 'verbose', 'balancing', 'model', 'balancing__k_neighbors', 'balancing__n_jobs', 'balancing__random_state', 'balancing__sampling_strategy', 'model__C', 'model__class_weight', 'model__dual', 'model__fit_intercept', 'model__intercept_scaling', 'model__l1_ratio', 'model__max_iter', 'model__multi_class', 'model__n_jobs', 'model__penalty', 'model__random_state', 'model__solver', 'model__tol', 'model__verbose', 'model__warm_start'])"
      ]
     },
     "execution_count": 103,
     "metadata": {},
     "output_type": "execute_result"
    }
   ],
   "source": [
    "estimator_smote.get_params().keys()"
   ]
  },
  {
   "cell_type": "code",
   "execution_count": 118,
   "metadata": {},
   "outputs": [],
   "source": [
    "hyperparam_space = {\n",
    "    'balancing__sampling_strategy':['minority','majority','not minority','all','auto'],\n",
    "    'balancing__k_neighbors':[2,3,5,10,15,20,30,50,100],\n",
    "#     'balancing__m_neighbors':[2,3,5,10,15,20,30,50,100],\n",
    "#     'balancing__kind':['regular','borderline1','borderline2','svm'],\n",
    "    \n",
    "    'model__C':[1000,100,10,1,0.1,0.01,0.001,0.0001],\n",
    "    'model__solver':['liblinear','newton-cg','lbfgs'],\n",
    "    'model__max_iter':[20,50,100,200,500,1000]\n",
    "}\n",
    "\n",
    "skfold = StratifiedKFold(n_splits=5)"
   ]
  },
  {
   "cell_type": "code",
   "execution_count": 119,
   "metadata": {},
   "outputs": [],
   "source": [
    "grid_search = GridSearchCV(\n",
    "    estimator_smote,\n",
    "    param_grid=hyperparam_space,\n",
    "    cv=skfold,\n",
    "    scoring='f1',\n",
    "    n_jobs=-1)"
   ]
  },
  {
   "cell_type": "code",
   "execution_count": 120,
   "metadata": {},
   "outputs": [
    {
     "data": {
      "text/plain": [
       "GridSearchCV(cv=StratifiedKFold(n_splits=5, random_state=None, shuffle=False),\n",
       "             estimator=Pipeline(steps=[('balancing', SMOTE()),\n",
       "                                       ('model', LogisticRegression())]),\n",
       "             n_jobs=-1,\n",
       "             param_grid={'balancing__k_neighbors': [2, 3, 5, 10, 15, 20, 30, 50,\n",
       "                                                    100],\n",
       "                         'balancing__sampling_strategy': ['minority',\n",
       "                                                          'majority',\n",
       "                                                          'not minority', 'all',\n",
       "                                                          'auto'],\n",
       "                         'model__C': [1000, 100, 10, 1, 0.1, 0.01, 0.001,\n",
       "                                      0.0001],\n",
       "                         'model__max_iter': [20, 50, 100, 200, 500, 1000],\n",
       "                         'model__solver': ['liblinear', 'newton-cg', 'lbfgs']},\n",
       "             scoring='f1')"
      ]
     },
     "execution_count": 120,
     "metadata": {},
     "output_type": "execute_result"
    }
   ],
   "source": [
    "grid_search.fit(X_train_val,y_train_val)"
   ]
  },
  {
   "cell_type": "code",
   "execution_count": 121,
   "metadata": {},
   "outputs": [
    {
     "name": "stdout",
     "output_type": "stream",
     "text": [
      "best score 0.6238530196863531\n",
      "best param {'balancing__k_neighbors': 30, 'balancing__sampling_strategy': 'minority', 'model__C': 1000, 'model__max_iter': 20, 'model__solver': 'lbfgs'}\n"
     ]
    }
   ],
   "source": [
    "print('best score', grid_search.best_score_)\n",
    "print('best param',grid_search.best_params_)"
   ]
  },
  {
   "cell_type": "code",
   "execution_count": 122,
   "metadata": {},
   "outputs": [
    {
     "name": "stdout",
     "output_type": "stream",
     "text": [
      "              precision    recall  f1-score   support\n",
      "\n",
      "           0       0.91      0.79      0.84       103\n",
      "           1       0.57      0.78      0.66        37\n",
      "\n",
      "    accuracy                           0.79       140\n",
      "   macro avg       0.74      0.79      0.75       140\n",
      "weighted avg       0.82      0.79      0.79       140\n",
      "\n"
     ]
    }
   ],
   "source": [
    "grid_search.best_estimator_.fit(X_train_val,y_train_val)\n",
    "y_pred=grid_search.best_estimator_.predict(X_test)\n",
    "print(classification_report(y_test,y_pred))"
   ]
  },
  {
   "cell_type": "markdown",
   "metadata": {},
   "source": [
    "SUMMARY"
   ]
  },
  {
   "cell_type": "markdown",
   "metadata": {},
   "source": [
    "Logistic Regression: Random Under Sampling before Tuning"
   ]
  },
  {
   "attachments": {
    "image.png": {
     "image/png": "[encoded data removed]"
    }
   },
   "cell_type": "markdown",
   "metadata": {},
   "source": [
    "![image.png](attachment:image.png)"
   ]
  },
  {
   "cell_type": "markdown",
   "metadata": {},
   "source": [
    "Logistic Regression: Random Under Sampling after Tuning"
   ]
  },
  {
   "attachments": {
    "image.png": {
     "image/png": "[encoded data removed]"
    }
   },
   "cell_type": "markdown",
   "metadata": {},
   "source": [
    "![image.png](attachment:image.png)"
   ]
  },
  {
   "cell_type": "markdown",
   "metadata": {},
   "source": [
    "Logistic Regression: SMOTE before Tuning"
   ]
  },
  {
   "attachments": {
    "image.png": {
     "image/png": "[encoded data removed]"
    }
   },
   "cell_type": "markdown",
   "metadata": {},
   "source": [
    "![image.png](attachment:image.png)"
   ]
  },
  {
   "cell_type": "markdown",
   "metadata": {},
   "source": [
    "Logistic Regression: SMOTE after Tuning"
   ]
  },
  {
   "attachments": {
    "image.png": {
     "image/png": "[encoded data removed]"
    }
   },
   "cell_type": "markdown",
   "metadata": {},
   "source": [
    "![image.png](attachment:image.png)"
   ]
  },
  {
   "cell_type": "markdown",
   "metadata": {},
   "source": [
    "Untuk kedua metode diatas tidak mengalami perubahan baik sebelum dan setelah di tuning, namun dari segi performa f1-score model Logistic Regression dengan balancing SMOTE mencapai skor tertinggi senilai 0.66"
   ]
  },
  {
   "cell_type": "code",
   "execution_count": null,
   "metadata": {},
   "outputs": [],
   "source": []
  }
 ],
 "metadata": {
  "kernelspec": {
   "display_name": "Python 3",
   "language": "python",
   "name": "python3"
  },
  "language_info": {
   "codemirror_mode": {
    "name": "ipython",
    "version": 3
   },
   "file_extension": ".py",
   "mimetype": "text/x-python",
   "name": "python",
   "nbconvert_exporter": "python",
   "pygments_lexer": "ipython3",
   "version": "3.7.6"
  }
 },
 "nbformat": 4,
 "nbformat_minor": 4
}
